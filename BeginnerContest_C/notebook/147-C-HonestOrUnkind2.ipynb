{
 "cells": [
  {
   "cell_type": "markdown",
   "metadata": {},
   "source": [
    "# HonestOrUnkind2  \n",
    "\n",
    "## 問題文  \n",
    "$1 \\sim N$までの番号のついた$N$人の人がいる．全員以下のどちらか満たす．\n",
    "* 必ず正しい証言をする：**正直者**\n",
    "* 真偽不明の証言を行う：**不親切な人**\n",
    "\n",
    "人$i$は$A_i$個の証言をする．\n",
    "\n",
    "人$i$の$j$個目の証言は$x_{ij}, y_{ij}$で表す．　\n",
    "\n",
    "また，\n",
    "$$\n",
    "\\begin{cases}\n",
    "    y_{ij} = 1, \\  人x_{ij}は正直者 \\\\\n",
    "    y_{ij} = 0, \\  人x_{ij}は不親切な人\n",
    "\\end{cases}\n",
    "$$\n",
    "とする．\n",
    "\n",
    "与えられた$N$人の情報からこの中に最大で何人の正直者が存在しうるかを答えよ．\n",
    "\n",
    "## 制約  \n",
    "* input values are integer\n",
    "* $1 \\leq N \\leq 15$  \n",
    "* $0 \\leq A_i \\leq N-1$\n",
    "* $1 \\leq x_{ij} \\leq N$\n",
    "* $x_{ij} \\neq i$\n",
    "* $x_{ij_1} \\neq x_{ij_2} (j_i \\neq j_2)$\n",
    "* $y_ij = 0, 1$\n"
   ]
  },
  {
   "cell_type": "markdown",
   "metadata": {},
   "source": [
    "# 解答"
   ]
  },
  {
   "cell_type": "markdown",
   "metadata": {},
   "source": [
    "まず，一人一人を調べても高々$2^{15} = 32,768$なのでそこまで重くない"
   ]
  },
  {
   "cell_type": "code",
   "execution_count": 1,
   "metadata": {},
   "outputs": [
    {
     "data": {
      "text/plain": [
       "32768"
      ]
     },
     "execution_count": 1,
     "metadata": {},
     "output_type": "execute_result"
    }
   ],
   "source": [
    "2 ** 15"
   ]
  },
  {
   "cell_type": "code",
   "execution_count": 12,
   "metadata": {},
   "outputs": [],
   "source": [
    "import requests \n",
    "from bs4 import BeautifulSoup\n",
    "import re"
   ]
  },
  {
   "cell_type": "code",
   "execution_count": 36,
   "metadata": {},
   "outputs": [
    {
     "data": {
      "text/plain": [
       "['3', '1', '2 1', '1', '1 1', '1', '2 0']"
      ]
     },
     "execution_count": 36,
     "metadata": {},
     "output_type": "execute_result"
    }
   ],
   "source": [
    "url = 'https://atcoder.jp/contests/abc147/tasks/abc147_c'\n",
    "prob = requests.get(url).text\n",
    "soup = BeautifulSoup(prob, 'html.parser')\n",
    "sample_text = soup.find_all('pre')[1].get_text()\n",
    "input = re.split(r'\\r\\n', sample_text)[:-1]\n",
    "input"
   ]
  },
  {
   "cell_type": "code",
   "execution_count": 114,
   "metadata": {},
   "outputs": [
    {
     "data": {
      "text/plain": [
       "{1: {'x': 2, 'y': 1}, 2: {'x': 1, 'y': 1}, 3: {'x': 2, 'y': 0}}"
      ]
     },
     "execution_count": 114,
     "metadata": {},
     "output_type": "execute_result"
    }
   ],
   "source": [
    "N = int(input[0])\n",
    "testimonies = {}\n",
    "iter = 1\n",
    "for i in range(1,7,2):\n",
    "    x, y = input[i+1].split()\n",
    "    testimonies[iter] = {\n",
    "        'x':int(x),\n",
    "        'y':int(y)\n",
    "    }\n",
    "    iter += 1\n",
    "testimonies"
   ]
  },
  {
   "cell_type": "markdown",
   "metadata": {},
   "source": [
    "* $N=3$\n",
    "* $A_1$の証言\n",
    "    * 人$2$は正直者\n",
    "* $A_2$の証言\n",
    "    * 人$1$は正直者\n",
    "* $A_3$の証言\n",
    "    * 人$2$は不親切"
   ]
  },
  {
   "cell_type": "code",
   "execution_count": 115,
   "metadata": {},
   "outputs": [
    {
     "name": "stdout",
     "output_type": "stream",
     "text": [
      "2\n"
     ]
    }
   ],
   "source": [
    "possible_len = 0\n",
    "for _ in range(2**N):\n",
    "    A = {} # initialize\n",
    "    case = [int(e) for e in (bin(_)[2:].zfill(3))] # testimony case\n",
    "    \n",
    "    for i, t in enumerate(case):\n",
    "        if t == 1: # 正直者と仮定\n",
    "            if  testimonies[i+1]['x'] not in A.keys():\n",
    "                A[testimonies[i+1]['x']] = list()\n",
    "            A[testimonies[i+1]['x']].append(testimonies[i+1]['y'])\n",
    "    if A.values():\n",
    "        result = [len(set(e)) for e in A.values()]\n",
    "        if len(result) == len([e for e in result if e == 1]):\n",
    "            possible_len = max(len(result), possible_len)\n",
    "\n",
    "print(possible_len)"
   ]
  },
  {
   "cell_type": "code",
   "execution_count": 109,
   "metadata": {},
   "outputs": [
    {
     "data": {
      "text/plain": [
       "16"
      ]
     },
     "execution_count": 109,
     "metadata": {},
     "output_type": "execute_result"
    }
   ],
   "source": [
    "len(bin(2**15)[2:])"
   ]
  },
  {
   "cell_type": "code",
   "execution_count": 116,
   "metadata": {},
   "outputs": [
    {
     "data": {
      "text/plain": [
       "dict_keys([1])"
      ]
     },
     "execution_count": 116,
     "metadata": {},
     "output_type": "execute_result"
    }
   ],
   "source": [
    "A = {1:'x'}\n",
    "A.keys()"
   ]
  },
  {
   "cell_type": "code",
   "execution_count": 117,
   "metadata": {},
   "outputs": [
    {
     "name": "stdout",
     "output_type": "stream",
     "text": [
      "here\n"
     ]
    }
   ],
   "source": [
    "if 0+1 in A.keys():\n",
    "    print('here')"
   ]
  },
  {
   "cell_type": "code",
   "execution_count": 118,
   "metadata": {},
   "outputs": [
    {
     "data": {
      "text/plain": [
       "[1, 2, 3]"
      ]
     },
     "execution_count": 118,
     "metadata": {},
     "output_type": "execute_result"
    }
   ],
   "source": [
    "x = [1,2,3]\n",
    "x"
   ]
  },
  {
   "cell_type": "code",
   "execution_count": 124,
   "metadata": {},
   "outputs": [
    {
     "name": "stdout",
     "output_type": "stream",
     "text": [
      "1\n",
      "0\n",
      "0\n",
      "0\n"
     ]
    }
   ],
   "source": [
    "for i in bin(8)[2:]:\n",
    "    print(i)"
   ]
  },
  {
   "cell_type": "code",
   "execution_count": 125,
   "metadata": {},
   "outputs": [],
   "source": []
  },
  {
   "cell_type": "code",
   "execution_count": 131,
   "metadata": {},
   "outputs": [
    {
     "name": "stdout",
     "output_type": "stream",
     "text": [
      "0 0\n",
      "1 0\n"
     ]
    },
    {
     "data": {
      "text/plain": [
       "[0, 10, 10]"
      ]
     },
     "execution_count": 131,
     "metadata": {},
     "output_type": "execute_result"
    }
   ],
   "source": [
    "ans = [0,0,1]\n",
    "for i,j in enumerate(ans.copy()[:2]):\n",
    "    print(i, j)\n",
    "    ans[i+1] = j + 10\n",
    "ans"
   ]
  },
  {
   "cell_type": "code",
   "execution_count": 130,
   "metadata": {},
   "outputs": [
    {
     "data": {
      "text/plain": [
       "[0, 10, 10]"
      ]
     },
     "execution_count": 130,
     "metadata": {},
     "output_type": "execute_result"
    }
   ],
   "source": [
    "ans"
   ]
  },
  {
   "cell_type": "code",
   "execution_count": null,
   "metadata": {},
   "outputs": [],
   "source": []
  }
 ],
 "metadata": {
  "kernelspec": {
   "display_name": "Python 3",
   "language": "python",
   "name": "python3"
  },
  "language_info": {
   "codemirror_mode": {
    "name": "ipython",
    "version": 3
   },
   "file_extension": ".py",
   "mimetype": "text/x-python",
   "name": "python",
   "nbconvert_exporter": "python",
   "pygments_lexer": "ipython3",
   "version": "3.7.5"
  }
 },
 "nbformat": 4,
 "nbformat_minor": 2
}
