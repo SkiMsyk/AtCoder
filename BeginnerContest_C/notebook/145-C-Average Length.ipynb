{
 "cells": [
  {
   "cell_type": "code",
   "execution_count": 1,
   "metadata": {},
   "outputs": [],
   "source": [
    "import requests\n",
    "from bs4 import BeautifulSoup\n",
    "import re"
   ]
  },
  {
   "cell_type": "code",
   "execution_count": 2,
   "metadata": {},
   "outputs": [],
   "source": [
    "html = requests.get('https://atcoder.jp/contests/abc145/tasks/abc145_c').text\n",
    "soup = BeautifulSoup(html, 'html.parser')"
   ]
  },
  {
   "cell_type": "code",
   "execution_count": 6,
   "metadata": {},
   "outputs": [
    {
     "data": {
      "text/plain": [
       "['\\n問題文座標平面上に N 個の町があります。町 i は、座標 ( x_i , y_i ) に位置しています。町 i と町 j の間の距離は \\\\sqrt{\\\\left(x_i-x_j\\\\right)^2+\\\\left(y_i-y_j\\\\right)^2} です。\\nこれらの町を全て 1 回ずつ訪れるとき、町を訪れる経路は全部で N! 通りあります。1 番目に訪れる町から出発し、2 番目に訪れる町、3 番目に訪れる町、\\\\ldots、を経由し、N 番目に訪れる町に到着するまでの移動距離 (町から町への移動は直線移動とします) を、その経路の長さとします。これらの N! 通りの経路の長さの平均値を計算してください。\\n',\n",
       " '\\n制約\\n2 ≤ N ≤ 8\\n-1000 ≤ x_i ≤ 1000\\n-1000 ≤ y_i ≤ 1000\\n\\\\left(x_i, y_i\\\\right) \\\\neq \\\\left(x_j, y_j\\\\right) ( i \\\\neq j のとき)\\n(21:12 追記) 入力中の値はすべて整数である。\\n\\n']"
      ]
     },
     "execution_count": 6,
     "metadata": {},
     "output_type": "execute_result"
    }
   ],
   "source": [
    "[e.text for e in soup.find_all('section')[:2]]"
   ]
  },
  {
   "cell_type": "code",
   "execution_count": null,
   "metadata": {},
   "outputs": [],
   "source": []
  }
 ],
 "metadata": {
  "kernelspec": {
   "display_name": "Python 3",
   "language": "python",
   "name": "python3"
  },
  "language_info": {
   "codemirror_mode": {
    "name": "ipython",
    "version": 3
   },
   "file_extension": ".py",
   "mimetype": "text/x-python",
   "name": "python",
   "nbconvert_exporter": "python",
   "pygments_lexer": "ipython3",
   "version": "3.7.5"
  }
 },
 "nbformat": 4,
 "nbformat_minor": 4
}
