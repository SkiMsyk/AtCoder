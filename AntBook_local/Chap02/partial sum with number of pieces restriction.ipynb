{
 "cells": [
  {
   "cell_type": "markdown",
   "metadata": {},
   "source": [
    "# 個数制限つき部分和問題  \n",
    "\n",
    "## exercise  \n",
    "$n$種類の数$a_i$がそれぞれ$m_i$個ある．これらの中からいくつか選び，その総和をちょうど$K$とすることができるか判定しなさい．\n",
    "\n",
    "## restriction  \n",
    "- $1 \\leq n \\leq 100$\n",
    "- $1 \\leq a_i, m_i \\leq 100000$\n",
    "- $1 \\leq K \\leq 100000$"
   ]
  },
  {
   "cell_type": "markdown",
   "metadata": {},
   "source": [
    "## input  \n",
    "- $n = 3$\n",
    "- $a = \\{ 3, 5, 8 \\}$\n",
    "- $m = \\{ 3, 2, 2 \\}$\n",
    "- $K = 17$\n",
    "\n",
    "## correct output  \n",
    "Yes"
   ]
  },
  {
   "cell_type": "markdown",
   "metadata": {},
   "source": [
    "DPで解くことが可能だが，漸化式をどのように立てるかで計算量が変わる．  \n",
    "まず次のように定義してみる．\n",
    "\n",
    "$$\n",
    "    dp[i+1][j] := {\\rm can \\  we \\  make \\  j \\  with \\  from \\  1st \\  to \\  i\\ th \\  items}\n",
    "$$\n",
    "\n",
    "$i$番目まででjを作るためには，$i-1$番目までで$j, j-a_i, \\dots, j-m_i \\times a_i$のどれかが作られている必要がある．したがって，漸化式は次のようになる．\n",
    "\n",
    "$$\n",
    "    dp[i+1][j] = (0 \\leq k \\leq m_i \\ \\& \\  k \\times a_i \\leq j \\  \\& \\  d[i][j - k \\times a-i] = Yes)\n",
    "$$"
   ]
  },
  {
   "cell_type": "code",
   "execution_count": 41,
   "metadata": {},
   "outputs": [],
   "source": [
    "# input \n",
    "n = 3\n",
    "a = [3,5,8]\n",
    "m = [3,2,2]\n",
    "K = 17"
   ]
  },
  {
   "cell_type": "code",
   "execution_count": 42,
   "metadata": {},
   "outputs": [
    {
     "name": "stdout",
     "output_type": "stream",
     "text": [
      "nrow =  4\n",
      "ncol =  18\n",
      "every element is False\n"
     ]
    }
   ],
   "source": [
    "dp = [[False]*(K+1) for _ in range(n+1)]\n",
    "print('nrow = ', len(dp))\n",
    "print('ncol = ', len(dp[0]))\n",
    "print('every element is False')"
   ]
  },
  {
   "cell_type": "code",
   "execution_count": 43,
   "metadata": {},
   "outputs": [],
   "source": [
    "# initialization\n",
    "dp[0][0] = True"
   ]
  },
  {
   "cell_type": "code",
   "execution_count": 44,
   "metadata": {},
   "outputs": [
    {
     "data": {
      "text/plain": [
       "True"
      ]
     },
     "execution_count": 44,
     "metadata": {},
     "output_type": "execute_result"
    }
   ],
   "source": [
    "# operator check\n",
    "res = False\n",
    "res |= True\n",
    "res"
   ]
  },
  {
   "cell_type": "code",
   "execution_count": 45,
   "metadata": {},
   "outputs": [],
   "source": [
    "for i in range(n):\n",
    "    for j in range(K+1):\n",
    "        k = 0\n",
    "        while k <= m[i] and k * a[i] <= j:\n",
    "            dp[i + 1][j] |= dp[i][j - k * a[i]]\n",
    "            #---\n",
    "            # iteration number \n",
    "            k += 1\n",
    "            #---"
   ]
  },
  {
   "cell_type": "code",
   "execution_count": 46,
   "metadata": {},
   "outputs": [
    {
     "data": {
      "text/plain": [
       "True"
      ]
     },
     "execution_count": 46,
     "metadata": {},
     "output_type": "execute_result"
    }
   ],
   "source": [
    "dp[n][K]"
   ]
  },
  {
   "cell_type": "code",
   "execution_count": 49,
   "metadata": {},
   "outputs": [
    {
     "data": {
      "text/plain": [
       "[[True,\n",
       "  False,\n",
       "  False,\n",
       "  False,\n",
       "  False,\n",
       "  False,\n",
       "  False,\n",
       "  False,\n",
       "  False,\n",
       "  False,\n",
       "  False,\n",
       "  False,\n",
       "  False,\n",
       "  False,\n",
       "  False,\n",
       "  False,\n",
       "  False,\n",
       "  False],\n",
       " [True,\n",
       "  False,\n",
       "  False,\n",
       "  True,\n",
       "  False,\n",
       "  False,\n",
       "  True,\n",
       "  False,\n",
       "  False,\n",
       "  True,\n",
       "  False,\n",
       "  False,\n",
       "  False,\n",
       "  False,\n",
       "  False,\n",
       "  False,\n",
       "  False,\n",
       "  False],\n",
       " [True,\n",
       "  False,\n",
       "  False,\n",
       "  True,\n",
       "  False,\n",
       "  True,\n",
       "  True,\n",
       "  False,\n",
       "  True,\n",
       "  True,\n",
       "  True,\n",
       "  True,\n",
       "  False,\n",
       "  True,\n",
       "  True,\n",
       "  False,\n",
       "  True,\n",
       "  False],\n",
       " [True,\n",
       "  False,\n",
       "  False,\n",
       "  True,\n",
       "  False,\n",
       "  True,\n",
       "  True,\n",
       "  False,\n",
       "  True,\n",
       "  True,\n",
       "  True,\n",
       "  True,\n",
       "  False,\n",
       "  True,\n",
       "  True,\n",
       "  False,\n",
       "  True,\n",
       "  True]]"
      ]
     },
     "execution_count": 49,
     "metadata": {},
     "output_type": "execute_result"
    }
   ],
   "source": [
    "dp"
   ]
  },
  {
   "cell_type": "markdown",
   "metadata": {},
   "source": [
    "上記のアルゴリズムの計算量は$O(K \\sum_i m_i)$で不十分．一般にbool値を求めるDPをすることは無駄があることが多い．この問題の場合は，作れるかどうかだけでなく，\n",
    "\n",
    "- **作れる場合には残りどれだけ** $a_i$ **が余っているかを持たせる**\n",
    "\n",
    "ようにすると計算量を落とすことができる．"
   ]
  },
  {
   "cell_type": "markdown",
   "metadata": {},
   "source": [
    "$$\n",
    "    dp[i+1][j] := i番目まででjを作る際に余る最大のi番目の個数(作れない場合は-1)\n",
    "$$"
   ]
  },
  {
   "cell_type": "markdown",
   "metadata": {},
   "source": [
    "と定義すると，$i-1$番目までで$j$を作れるなら，$i$番目を$m_i$個残して$j$を作ることができる．また，$i$番目までで$j-a_i$を作る際に$i$番目を$k(>0)$個残すことができるならば，$i$番目を$k-1$個残して$j$を作ることができる．したがって，漸化式は次のようになる．"
   ]
  },
  {
   "cell_type": "markdown",
   "metadata": {},
   "source": [
    "$$\n",
    "dp[i+1][j] = \n",
    "\\begin{cases}\n",
    "    m_i (dp[i][j] \\geq 0) \\\\\n",
    "    -1 (j < a_i または dp[i+1][j - a_i] \\leq 0 \\\\\n",
    "    dp[i+1][j-a_i] - 1(それ以外)\n",
    "\\end{cases}\n",
    "$$"
   ]
  },
  {
   "cell_type": "markdown",
   "metadata": {},
   "source": [
    "最終的な答えは$dp[n][K] \\geq 0 $を調べれば良い．  \n",
    "この漸化式の計算量は$O(nK)$である．  \n",
    "配列の再利用を行えば，次のようにかける．"
   ]
  },
  {
   "cell_type": "code",
   "execution_count": 51,
   "metadata": {},
   "outputs": [],
   "source": [
    "# input \n",
    "n = 3\n",
    "a = [3,5,8]\n",
    "m = [3,2,2]\n",
    "K = 17"
   ]
  },
  {
   "cell_type": "code",
   "execution_count": 57,
   "metadata": {},
   "outputs": [
    {
     "data": {
      "text/plain": [
       "[0, -1, -1, -1, -1, -1, -1, -1, -1, -1, -1, -1, -1, -1, -1, -1, -1, -1]"
      ]
     },
     "execution_count": 57,
     "metadata": {},
     "output_type": "execute_result"
    }
   ],
   "source": [
    "dp = [-1]*(K+1)\n",
    "dp[0] = 0\n",
    "dp"
   ]
  },
  {
   "cell_type": "code",
   "execution_count": 62,
   "metadata": {},
   "outputs": [],
   "source": [
    "for i in range(n):\n",
    "    for j in range(K+1):\n",
    "        if dp[j] >= 0:\n",
    "            dp[j] = m[i]\n",
    "        elif j < a[i] or dp[j-a[i]] <= 0:\n",
    "            dp[j] = -1\n",
    "        else:\n",
    "            dp[j] = dp[j - a[i]] - 1"
   ]
  },
  {
   "cell_type": "code",
   "execution_count": 63,
   "metadata": {},
   "outputs": [
    {
     "data": {
      "text/plain": [
       "[2, -1, -1, 2, -1, 2, 2, -1, 2, 2, 2, 2, 2, 2, 2, 2, 2, 2]"
      ]
     },
     "execution_count": 63,
     "metadata": {},
     "output_type": "execute_result"
    }
   ],
   "source": [
    "dp"
   ]
  },
  {
   "cell_type": "code",
   "execution_count": 65,
   "metadata": {},
   "outputs": [
    {
     "name": "stdout",
     "output_type": "stream",
     "text": [
      "Yes\n"
     ]
    }
   ],
   "source": [
    "if dp[K] >= 0:\n",
    "    print('Yes')"
   ]
  }
 ],
 "metadata": {
  "kernelspec": {
   "display_name": "Python 3",
   "language": "python",
   "name": "python3"
  },
  "language_info": {
   "codemirror_mode": {
    "name": "ipython",
    "version": 3
   },
   "file_extension": ".py",
   "mimetype": "text/x-python",
   "name": "python",
   "nbconvert_exporter": "python",
   "pygments_lexer": "ipython3",
   "version": "3.7.0"
  }
 },
 "nbformat": 4,
 "nbformat_minor": 2
}
