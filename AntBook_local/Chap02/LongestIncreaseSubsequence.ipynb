{
 "cells": [
  {
   "cell_type": "markdown",
   "metadata": {},
   "source": [
    "# 最長増加部分列問題：Longest Increasing Subsequence  \n",
    "長さ$n$の数列$a_0, a_1, \\ldots, a_{n-1}$がある．この数列の増加部分列のうち，最長のものの長さを求めなさい．  \n",
    "ただし，増加部分列とは，全ての$i<j$で$a_i < a_j$を満たす部分列のことを言います．\n",
    "\n",
    "---\n",
    "## Resitriction  \n",
    "- $1 \\leq n \\leq 1000$\n",
    "- $0 \\leq a_i \\leq 1000000$"
   ]
  },
  {
   "cell_type": "markdown",
   "metadata": {},
   "source": [
    "---\n",
    "## input  \n",
    "- $n = 5$\n",
    "- $a = \\{4, 2, 3, 1, 5 \\}$"
   ]
  },
  {
   "cell_type": "code",
   "execution_count": 1,
   "metadata": {},
   "outputs": [],
   "source": [
    "n = 5\n",
    "a = [4,2,3,1,5]"
   ]
  },
  {
   "cell_type": "markdown",
   "metadata": {},
   "source": [
    "---\n",
    "## output  \n",
    "$3$ $(a_1, a_2, a_4$からなる部分列$2,3,5$が最長$)$"
   ]
  },
  {
   "cell_type": "markdown",
   "metadata": {},
   "source": [
    "---\n",
    "これは最長増加部分列(LIS：Longest Increasing Subsequence)と呼ばれる有名な問題．この問題もDPを用いることで効率に解くことができる．  \n",
    "まずは漸化式 を\n",
    "\n",
    "- **$dp[i] :=$ 最後が$a_i$であるような最長の増加部分列の長さ**"
   ]
  },
  {
   "cell_type": "markdown",
   "metadata": {},
   "source": [
    "とする．最後が$a_i$であるような増加部分列は， \n",
    "\n",
    "- **$a_i$ のみからなる列**\n",
    "- **$j < i$ かつ $a_j < a_i$ であるような $a_j$ で終わる増加部分列の後ろに $a_i$ を付け足した列**\n",
    "\n",
    "のどちらかであるので  "
   ]
  },
  {
   "cell_type": "markdown",
   "metadata": {},
   "source": [
    "$$\n",
    "    dp[i] = \\max(1, dp[j]+1 | j < i \\  \\& \\  a_j < a_i)\n",
    "$$"
   ]
  },
  {
   "cell_type": "markdown",
   "metadata": {},
   "source": [
    "という漸化式が成り立つ．この漸化式を用いると$O(n^2)$で解くことができる．"
   ]
  },
  {
   "cell_type": "code",
   "execution_count": 2,
   "metadata": {},
   "outputs": [
    {
     "data": {
      "text/plain": [
       "[0, 0, 0, 0, 0]"
      ]
     },
     "execution_count": 2,
     "metadata": {},
     "output_type": "execute_result"
    }
   ],
   "source": [
    "dp = [0]*n\n",
    "dp"
   ]
  },
  {
   "cell_type": "code",
   "execution_count": 3,
   "metadata": {},
   "outputs": [],
   "source": [
    "res = 0"
   ]
  },
  {
   "cell_type": "code",
   "execution_count": 4,
   "metadata": {},
   "outputs": [],
   "source": [
    "for i in range(n):\n",
    "    dp[i] = 1\n",
    "    for j in range(i):\n",
    "        if a[j] < a[i]:\n",
    "            dp[i] = max(dp[i], dp[j] + 1)\n",
    "            \n",
    "    res = max(res, dp[i])"
   ]
  },
  {
   "cell_type": "code",
   "execution_count": 5,
   "metadata": {},
   "outputs": [
    {
     "data": {
      "text/plain": [
       "3"
      ]
     },
     "execution_count": 5,
     "metadata": {},
     "output_type": "execute_result"
    }
   ],
   "source": [
    "res"
   ]
  },
  {
   "cell_type": "code",
   "execution_count": 6,
   "metadata": {},
   "outputs": [
    {
     "data": {
      "text/plain": [
       "[1, 1, 2, 1, 3]"
      ]
     },
     "execution_count": 6,
     "metadata": {},
     "output_type": "execute_result"
    }
   ],
   "source": [
    "dp"
   ]
  },
  {
   "cell_type": "markdown",
   "metadata": {},
   "source": [
    "---\n",
    "## 関数化"
   ]
  },
  {
   "cell_type": "code",
   "execution_count": 16,
   "metadata": {},
   "outputs": [],
   "source": [
    "def LIS(n, a):\n",
    "    dp = [0]*n\n",
    "    res = 0\n",
    "    for i in range(n):\n",
    "        dp[i] = 1\n",
    "        for j in range(i):\n",
    "            if a[j] < a[i]:\n",
    "                dp[i] = max(dp[i], dp[j] + 1)\n",
    "        res = max(res, dp[i])\n",
    "    return res"
   ]
  },
  {
   "cell_type": "code",
   "execution_count": 17,
   "metadata": {},
   "outputs": [
    {
     "data": {
      "text/plain": [
       "3"
      ]
     },
     "execution_count": 17,
     "metadata": {},
     "output_type": "execute_result"
    }
   ],
   "source": [
    "LIS(n=n, a=a)"
   ]
  },
  {
   "cell_type": "markdown",
   "metadata": {},
   "source": [
    "---\n",
    "### example"
   ]
  },
  {
   "cell_type": "code",
   "execution_count": 26,
   "metadata": {},
   "outputs": [],
   "source": [
    "from random import randint\n",
    "from random import seed"
   ]
  },
  {
   "cell_type": "code",
   "execution_count": 30,
   "metadata": {},
   "outputs": [
    {
     "data": {
      "text/plain": [
       "[18, 58, 58, 98, 22, 90, 50, 93, 44, 55, 64, 14, 68, 15, 10, 94, 58, 33, 6, 84]"
      ]
     },
     "execution_count": 30,
     "metadata": {},
     "output_type": "execute_result"
    }
   ],
   "source": [
    "n = 20\n",
    "\n",
    "seed(100)\n",
    "a = [randint(0,100) for _ in range(n)]\n",
    "a"
   ]
  },
  {
   "cell_type": "code",
   "execution_count": 31,
   "metadata": {},
   "outputs": [
    {
     "data": {
      "text/plain": [
       "7"
      ]
     },
     "execution_count": 31,
     "metadata": {},
     "output_type": "execute_result"
    }
   ],
   "source": [
    "LIS(n, a)"
   ]
  },
  {
   "cell_type": "code",
   "execution_count": null,
   "metadata": {},
   "outputs": [],
   "source": []
  }
 ],
 "metadata": {
  "kernelspec": {
   "display_name": "Python 3",
   "language": "python",
   "name": "python3"
  },
  "language_info": {
   "codemirror_mode": {
    "name": "ipython",
    "version": 3
   },
   "file_extension": ".py",
   "mimetype": "text/x-python",
   "name": "python",
   "nbconvert_exporter": "python",
   "pygments_lexer": "ipython3",
   "version": "3.7.0"
  }
 },
 "nbformat": 4,
 "nbformat_minor": 2
}
