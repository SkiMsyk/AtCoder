{
 "cells": [
  {
   "cell_type": "markdown",
   "metadata": {},
   "source": [
    "# 01ナップサック問題その２  \n",
    "重さと価値がそれぞれ$w_i, v_i$であるような$n$個の品物があります．これらの品物から，重さの総和がWを超えないように選んだ時の，価値の総和の最大値を求めなさい．  \n",
    "\n",
    "## Resitriction  \n",
    "- $1 \\leq n \\leq 100$\n",
    "- $1 \\leq w_i \\leq 10^{7}$\n",
    "- $1 \\leq v_i \\leq 100$\n",
    "- $1 \\leq W \\leq 10^9$"
   ]
  },
  {
   "cell_type": "markdown",
   "metadata": {},
   "source": [
    "## Example  \n",
    "### input  \n",
    "$n = 4$  \n",
    "    $(w,v) = \\{ (2,3), (1,2), (3,4), (2,2) \\}$  \n",
    "$W=5$\n",
    "\n",
    "### correct output  \n",
    "7  \n",
    "0, 1, 3番目の品物を選ぶ  \n",
    "\n",
    "### 方針  \n",
    "今回は，価値に対する最小の重さをDPで計算するとうまくいく．  \n",
    "重さに対する最大の価値をDPで計算しようとすると計算量が$O(nW)$となって終わらなくなる．  \n",
    "\n",
    "#### point  \n",
    "dp[i+1][j] に入る要素は\n",
    "\n",
    "$i$ 番目までの品物から価値の総和が$j$となるように選んだ時の重さの総和の最小値（そのような解が存在しない場合はINF）とする．\n",
    "\n",
    "0番目までの品物からは何も選べないので，初期値として，\n",
    "\n",
    "- dp[0][0] = 0  \n",
    "- dp[i][j] = $\\inf$  （ただし$i = 1,2,...,4$，$j = 1,2,...,n \\times \\max(v)$）\n",
    "\n",
    "としておく．また，$i$番目までの品物から価値の総和が$j$となるように選ぶためには，\n",
    "\n",
    "- $i-1$番目までの品物から価値の総和が$j$となるように選ぶ\n",
    "- $i-1$番目までの品物から価値の総和が$j-v[i]$となるように選び，$i$番目の品物を加える  \n",
    "\n",
    "の２通りがある．そこで，\n",
    "\n",
    "$$\n",
    "    dp[i+1][j] = \\min( dp[i][j], \\ \\  dp[i][j-v[i] + w[i] )\n",
    "$$\n",
    "\n",
    "という漸化式が成り立つことに注意すれば，最終的な答えは，dp[n][j] $\\leq W$となる最大の$j$となる．\n",
    "\n",
    "#### 計算量  \n",
    "この時の計算量は $O(n \\sum_i v_i)$ となる．価値の数が大きな場合はやはり計算量が膨大になるので注意．"
   ]
  },
  {
   "cell_type": "code",
   "execution_count": 36,
   "metadata": {},
   "outputs": [],
   "source": [
    "# input\n",
    "n = 4\n",
    "wv = [(2,3), (1,2), (3,4), (2,2)]\n",
    "W = 5"
   ]
  },
  {
   "cell_type": "code",
   "execution_count": 37,
   "metadata": {},
   "outputs": [
    {
     "data": {
      "text/plain": [
       "[inf,\n",
       " inf,\n",
       " inf,\n",
       " inf,\n",
       " inf,\n",
       " inf,\n",
       " inf,\n",
       " inf,\n",
       " inf,\n",
       " inf,\n",
       " inf,\n",
       " inf,\n",
       " inf,\n",
       " inf,\n",
       " inf,\n",
       " inf]"
      ]
     },
     "execution_count": 37,
     "metadata": {},
     "output_type": "execute_result"
    }
   ],
   "source": [
    "# make dp list of which elements are INF\n",
    "dp = [[float('inf')]*(n*max([v[1] for v in wv])) for _ in range(n+1)]\n",
    "dp[0]"
   ]
  },
  {
   "cell_type": "code",
   "execution_count": 38,
   "metadata": {
    "scrolled": true
   },
   "outputs": [
    {
     "data": {
      "text/plain": [
       "[0, inf, inf, inf, inf, inf, inf, inf, inf, inf, inf, inf, inf, inf, inf, inf]"
      ]
     },
     "execution_count": 38,
     "metadata": {},
     "output_type": "execute_result"
    }
   ],
   "source": [
    "# initial value dp[0][0] is 0\n",
    "dp[0][0] = 0\n",
    "dp[0]"
   ]
  },
  {
   "cell_type": "markdown",
   "metadata": {},
   "source": [
    "## 再掲\n",
    "\n",
    "$i$番目までの品物から価値の総和が$j$となるように選ぶためには，\n",
    "\n",
    "- $i-1$番目までの品物から価値の総和が$j$となるように選ぶ\n",
    "- $i-1$番目までの品物から価値の総和が$j-v[i]$となるように選び，$i$番目の品物を加える  \n",
    "\n",
    "の２通りがある．そこで，\n",
    "\n",
    "$$\n",
    "    dp[i+1][j] = \\min( dp[i][j], \\ \\  dp[i][j-v[i]] + w[i] )\n",
    "$$\n",
    "\n",
    "という漸化式が成り立つことに注意すれば，最終的な答えは，dp[n][j] $\\leq W$となる最大の$j$となる．"
   ]
  },
  {
   "cell_type": "code",
   "execution_count": 39,
   "metadata": {},
   "outputs": [],
   "source": [
    "for i in range(n):\n",
    "    for j in range(n * max([v[1] for v in wv])):\n",
    "        if j < wv[i][1]:\n",
    "            dp[i + 1][j] = dp[i][j]\n",
    "        else:\n",
    "            dp[i + 1][j] = min(dp[i][j],  dp[i][j - wv[i][1]] + wv[i][0])"
   ]
  },
  {
   "cell_type": "code",
   "execution_count": 40,
   "metadata": {},
   "outputs": [
    {
     "data": {
      "text/plain": [
       "[[0,\n",
       "  inf,\n",
       "  inf,\n",
       "  inf,\n",
       "  inf,\n",
       "  inf,\n",
       "  inf,\n",
       "  inf,\n",
       "  inf,\n",
       "  inf,\n",
       "  inf,\n",
       "  inf,\n",
       "  inf,\n",
       "  inf,\n",
       "  inf,\n",
       "  inf],\n",
       " [0, inf, inf, 2, inf, inf, inf, inf, inf, inf, inf, inf, inf, inf, inf, inf],\n",
       " [0, inf, 1, 2, inf, 3, inf, inf, inf, inf, inf, inf, inf, inf, inf, inf],\n",
       " [0, inf, 1, 2, 3, 3, 4, 5, inf, 6, inf, inf, inf, inf, inf, inf],\n",
       " [0, inf, 1, 2, 3, 3, 4, 5, 6, 6, inf, 8, inf, inf, inf, inf]]"
      ]
     },
     "execution_count": 40,
     "metadata": {},
     "output_type": "execute_result"
    }
   ],
   "source": [
    "dp"
   ]
  },
  {
   "cell_type": "code",
   "execution_count": 41,
   "metadata": {},
   "outputs": [
    {
     "name": "stdout",
     "output_type": "stream",
     "text": [
      "[0, inf, 1, 2, 3, 3, 4, 5, 6, 6, inf, 8, inf, inf, inf, inf]\n",
      "[0, inf, 1, 2, 3, 3, 4, 5, 6, 6, inf, 8, inf, inf, inf, inf]\n",
      "[0, inf, 1, 2, 3, 3, 4, 5, 6, 6, inf, 8, inf, inf, inf, inf]\n",
      "[0, inf, 1, 2, 3, 3, 4, 5, 6, 6, inf, 8, inf, inf, inf, inf]\n",
      "[0, inf, 1, 2, 3, 3, 4, 5, 6, 6, inf, 8, inf, inf, inf, inf]\n",
      "[0, inf, 1, 2, 3, 3, 4, 5, 6, 6, inf, 8, inf, inf, inf, inf]\n",
      "[0, inf, 1, 2, 3, 3, 4, 5, 6, 6, inf, 8, inf, inf, inf, inf]\n"
     ]
    }
   ],
   "source": [
    "for i in range(n*max(v[1] for v in wv)):\n",
    "    if dp[n][i] <= W:\n",
    "        print(dp[n])\n",
    "        res = i"
   ]
  },
  {
   "cell_type": "code",
   "execution_count": 42,
   "metadata": {},
   "outputs": [
    {
     "name": "stdout",
     "output_type": "stream",
     "text": [
      "answer :  7\n"
     ]
    }
   ],
   "source": [
    "print('answer : ', res)"
   ]
  },
  {
   "cell_type": "markdown",
   "metadata": {},
   "source": [
    "関数化"
   ]
  },
  {
   "cell_type": "code",
   "execution_count": 53,
   "metadata": {},
   "outputs": [],
   "source": [
    "def knapsack01(n , wv, W):\n",
    "    # inititalize\n",
    "    dp = [[float('inf')]*(n * max(e[1] for e in wv)) for _ in range(n+1)]\n",
    "    dp[0][0] = 0\n",
    "    \n",
    "    # calculation\n",
    "    for i in range(n):\n",
    "        for j in range(n * max(e[1] for e in wv)):\n",
    "            if j < wv[i][1]:\n",
    "                dp[i + 1][j] = dp[i][j]\n",
    "            else:\n",
    "                dp[i+1][j] = min( dp[i][j],  dp[i][j - wv[i][1]] + wv[i][0])\n",
    "    \n",
    "    # result\n",
    "    for i in range(n*max(v[1] for v in wv)):\n",
    "        if dp[n][i] <= W:\n",
    "            res = i\n",
    "\n",
    "    print(dp)\n",
    "            \n",
    "    return res"
   ]
  },
  {
   "cell_type": "code",
   "execution_count": 54,
   "metadata": {},
   "outputs": [
    {
     "name": "stdout",
     "output_type": "stream",
     "text": [
      "[[0, inf, inf, inf, inf, inf, inf, inf, inf, inf, inf, inf, inf, inf, inf, inf], [0, inf, inf, 2, inf, inf, inf, inf, inf, inf, inf, inf, inf, inf, inf, inf], [0, inf, 1, 2, inf, 3, inf, inf, inf, inf, inf, inf, inf, inf, inf, inf], [0, inf, 1, 2, 3, 3, 4, 5, inf, 6, inf, inf, inf, inf, inf, inf], [0, inf, 1, 2, 3, 3, 4, 5, 6, 6, inf, 8, inf, inf, inf, inf]]\n"
     ]
    },
    {
     "data": {
      "text/plain": [
       "7"
      ]
     },
     "execution_count": 54,
     "metadata": {},
     "output_type": "execute_result"
    }
   ],
   "source": [
    "knapsack01(n=n, wv=wv, W=W)"
   ]
  }
 ],
 "metadata": {
  "kernelspec": {
   "display_name": "Python 3",
   "language": "python",
   "name": "python3"
  },
  "language_info": {
   "codemirror_mode": {
    "name": "ipython",
    "version": 3
   },
   "file_extension": ".py",
   "mimetype": "text/x-python",
   "name": "python",
   "nbconvert_exporter": "python",
   "pygments_lexer": "ipython3",
   "version": "3.7.0"
  }
 },
 "nbformat": 4,
 "nbformat_minor": 2
}
